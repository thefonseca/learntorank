{
 "cells": [
  {
   "cell_type": "markdown",
   "metadata": {},
   "source": [
    "# Init"
   ]
  },
  {
   "cell_type": "code",
   "execution_count": 1,
   "metadata": {
    "collapsed": false,
    "scrolled": true
   },
   "outputs": [],
   "source": [
    "%matplotlib inline\n",
    "import pandas\n",
    "import numpy\n",
    "import logging\n",
    "import pickle\n",
    "from scipy import stats\n",
    "from sklearn.neighbors import KDTree\n",
    "from sklearn.neighbors import DistanceMetric\n",
    "from sklearn.mixture import GMM"
   ]
  },
  {
   "cell_type": "markdown",
   "metadata": {},
   "source": [
    "# Get test and training sets"
   ]
  },
  {
   "cell_type": "code",
   "execution_count": 2,
   "metadata": {
    "collapsed": false
   },
   "outputs": [
    {
     "name": "stdout",
     "output_type": "stream",
     "text": [
      "('Test size', (8607230, 5))\n",
      "('Train size', (29118021, 6))\n"
     ]
    }
   ],
   "source": [
    "test = pandas.read_csv('test.csv')\n",
    "train = pandas.read_csv('train.csv')\n",
    "print('Test size', test.shape)\n",
    "print('Train size', train.shape)"
   ]
  },
  {
   "cell_type": "code",
   "execution_count": 52,
   "metadata": {
    "collapsed": false
   },
   "outputs": [
    {
     "data": {
      "text/plain": [
       "(28370006, 8)"
      ]
     },
     "execution_count": 52,
     "metadata": {},
     "output_type": "execute_result"
    }
   ],
   "source": [
    "train.shape"
   ]
  },
  {
   "cell_type": "code",
   "execution_count": 3,
   "metadata": {
    "collapsed": false
   },
   "outputs": [
    {
     "data": {
      "text/html": [
       "<div>\n",
       "<table border=\"1\" class=\"dataframe\">\n",
       "  <thead>\n",
       "    <tr style=\"text-align: right;\">\n",
       "      <th></th>\n",
       "      <th>row_id</th>\n",
       "      <th>x</th>\n",
       "      <th>y</th>\n",
       "      <th>accuracy</th>\n",
       "      <th>time</th>\n",
       "      <th>place_id</th>\n",
       "    </tr>\n",
       "  </thead>\n",
       "  <tbody>\n",
       "    <tr>\n",
       "      <th>count</th>\n",
       "      <td>2.911802e+07</td>\n",
       "      <td>2.911802e+07</td>\n",
       "      <td>2.911802e+07</td>\n",
       "      <td>2.911802e+07</td>\n",
       "      <td>2.911802e+07</td>\n",
       "      <td>2.911802e+07</td>\n",
       "    </tr>\n",
       "    <tr>\n",
       "      <th>mean</th>\n",
       "      <td>1.455901e+07</td>\n",
       "      <td>4.999770e+00</td>\n",
       "      <td>5.001814e+00</td>\n",
       "      <td>8.284912e+01</td>\n",
       "      <td>4.170104e+05</td>\n",
       "      <td>5.493787e+09</td>\n",
       "    </tr>\n",
       "    <tr>\n",
       "      <th>std</th>\n",
       "      <td>8.405649e+06</td>\n",
       "      <td>2.857601e+00</td>\n",
       "      <td>2.887505e+00</td>\n",
       "      <td>1.147518e+02</td>\n",
       "      <td>2.311761e+05</td>\n",
       "      <td>2.611088e+09</td>\n",
       "    </tr>\n",
       "    <tr>\n",
       "      <th>min</th>\n",
       "      <td>0.000000e+00</td>\n",
       "      <td>0.000000e+00</td>\n",
       "      <td>0.000000e+00</td>\n",
       "      <td>1.000000e+00</td>\n",
       "      <td>1.000000e+00</td>\n",
       "      <td>1.000016e+09</td>\n",
       "    </tr>\n",
       "    <tr>\n",
       "      <th>25%</th>\n",
       "      <td>7.279505e+06</td>\n",
       "      <td>2.534700e+00</td>\n",
       "      <td>2.496700e+00</td>\n",
       "      <td>2.700000e+01</td>\n",
       "      <td>2.030570e+05</td>\n",
       "      <td>3.222911e+09</td>\n",
       "    </tr>\n",
       "    <tr>\n",
       "      <th>50%</th>\n",
       "      <td>1.455901e+07</td>\n",
       "      <td>5.009100e+00</td>\n",
       "      <td>4.988300e+00</td>\n",
       "      <td>6.200000e+01</td>\n",
       "      <td>4.339220e+05</td>\n",
       "      <td>5.518573e+09</td>\n",
       "    </tr>\n",
       "    <tr>\n",
       "      <th>75%</th>\n",
       "      <td>2.183852e+07</td>\n",
       "      <td>7.461400e+00</td>\n",
       "      <td>7.510300e+00</td>\n",
       "      <td>7.500000e+01</td>\n",
       "      <td>6.204910e+05</td>\n",
       "      <td>7.764307e+09</td>\n",
       "    </tr>\n",
       "    <tr>\n",
       "      <th>max</th>\n",
       "      <td>2.911802e+07</td>\n",
       "      <td>1.000000e+01</td>\n",
       "      <td>1.000000e+01</td>\n",
       "      <td>1.033000e+03</td>\n",
       "      <td>7.862390e+05</td>\n",
       "      <td>9.999932e+09</td>\n",
       "    </tr>\n",
       "  </tbody>\n",
       "</table>\n",
       "</div>"
      ],
      "text/plain": [
       "             row_id             x             y      accuracy          time  \\\n",
       "count  2.911802e+07  2.911802e+07  2.911802e+07  2.911802e+07  2.911802e+07   \n",
       "mean   1.455901e+07  4.999770e+00  5.001814e+00  8.284912e+01  4.170104e+05   \n",
       "std    8.405649e+06  2.857601e+00  2.887505e+00  1.147518e+02  2.311761e+05   \n",
       "min    0.000000e+00  0.000000e+00  0.000000e+00  1.000000e+00  1.000000e+00   \n",
       "25%    7.279505e+06  2.534700e+00  2.496700e+00  2.700000e+01  2.030570e+05   \n",
       "50%    1.455901e+07  5.009100e+00  4.988300e+00  6.200000e+01  4.339220e+05   \n",
       "75%    2.183852e+07  7.461400e+00  7.510300e+00  7.500000e+01  6.204910e+05   \n",
       "max    2.911802e+07  1.000000e+01  1.000000e+01  1.033000e+03  7.862390e+05   \n",
       "\n",
       "           place_id  \n",
       "count  2.911802e+07  \n",
       "mean   5.493787e+09  \n",
       "std    2.611088e+09  \n",
       "min    1.000016e+09  \n",
       "25%    3.222911e+09  \n",
       "50%    5.518573e+09  \n",
       "75%    7.764307e+09  \n",
       "max    9.999932e+09  "
      ]
     },
     "execution_count": 3,
     "metadata": {},
     "output_type": "execute_result"
    }
   ],
   "source": [
    "train.describe()"
   ]
  },
  {
   "cell_type": "markdown",
   "metadata": {},
   "source": [
    "# Downsample training set"
   ]
  },
  {
   "cell_type": "code",
   "execution_count": 48,
   "metadata": {
    "collapsed": false,
    "scrolled": true
   },
   "outputs": [
    {
     "name": "stdout",
     "output_type": "stream",
     "text": [
      "('Train subset interval:', 30, 'days')\n"
     ]
    },
    {
     "data": {
      "text/html": [
       "<div>\n",
       "<table border=\"1\" class=\"dataframe\">\n",
       "  <thead>\n",
       "    <tr style=\"text-align: right;\">\n",
       "      <th></th>\n",
       "      <th>row_id</th>\n",
       "      <th>x</th>\n",
       "      <th>y</th>\n",
       "      <th>accuracy</th>\n",
       "      <th>time</th>\n",
       "      <th>place_id</th>\n",
       "    </tr>\n",
       "  </thead>\n",
       "  <tbody>\n",
       "    <tr>\n",
       "      <th>count</th>\n",
       "      <td>1.288113e+06</td>\n",
       "      <td>1.288113e+06</td>\n",
       "      <td>1.288113e+06</td>\n",
       "      <td>1.288113e+06</td>\n",
       "      <td>1.288113e+06</td>\n",
       "      <td>1.288113e+06</td>\n",
       "    </tr>\n",
       "    <tr>\n",
       "      <th>mean</th>\n",
       "      <td>1.456215e+07</td>\n",
       "      <td>5.008968e+00</td>\n",
       "      <td>5.019589e+00</td>\n",
       "      <td>6.625677e+01</td>\n",
       "      <td>2.224284e+04</td>\n",
       "      <td>5.513268e+09</td>\n",
       "    </tr>\n",
       "    <tr>\n",
       "      <th>std</th>\n",
       "      <td>8.408575e+06</td>\n",
       "      <td>2.875458e+00</td>\n",
       "      <td>2.888410e+00</td>\n",
       "      <td>8.623728e+01</td>\n",
       "      <td>1.246822e+04</td>\n",
       "      <td>2.607118e+09</td>\n",
       "    </tr>\n",
       "    <tr>\n",
       "      <th>min</th>\n",
       "      <td>1.000000e+01</td>\n",
       "      <td>0.000000e+00</td>\n",
       "      <td>0.000000e+00</td>\n",
       "      <td>1.000000e+00</td>\n",
       "      <td>1.000000e+00</td>\n",
       "      <td>1.000016e+09</td>\n",
       "    </tr>\n",
       "    <tr>\n",
       "      <th>25%</th>\n",
       "      <td>7.281653e+06</td>\n",
       "      <td>2.513900e+00</td>\n",
       "      <td>2.525100e+00</td>\n",
       "      <td>1.400000e+01</td>\n",
       "      <td>1.155700e+04</td>\n",
       "      <td>3.248488e+09</td>\n",
       "    </tr>\n",
       "    <tr>\n",
       "      <th>50%</th>\n",
       "      <td>1.456127e+07</td>\n",
       "      <td>5.027600e+00</td>\n",
       "      <td>5.003000e+00</td>\n",
       "      <td>6.000000e+01</td>\n",
       "      <td>2.266800e+04</td>\n",
       "      <td>5.543382e+09</td>\n",
       "    </tr>\n",
       "    <tr>\n",
       "      <th>75%</th>\n",
       "      <td>2.184664e+07</td>\n",
       "      <td>7.509700e+00</td>\n",
       "      <td>7.544400e+00</td>\n",
       "      <td>7.100000e+01</td>\n",
       "      <td>3.315400e+04</td>\n",
       "      <td>7.770358e+09</td>\n",
       "    </tr>\n",
       "    <tr>\n",
       "      <th>max</th>\n",
       "      <td>2.911801e+07</td>\n",
       "      <td>1.000000e+01</td>\n",
       "      <td>1.000000e+01</td>\n",
       "      <td>1.016000e+03</td>\n",
       "      <td>4.320000e+04</td>\n",
       "      <td>9.999863e+09</td>\n",
       "    </tr>\n",
       "  </tbody>\n",
       "</table>\n",
       "</div>"
      ],
      "text/plain": [
       "             row_id             x             y      accuracy          time  \\\n",
       "count  1.288113e+06  1.288113e+06  1.288113e+06  1.288113e+06  1.288113e+06   \n",
       "mean   1.456215e+07  5.008968e+00  5.019589e+00  6.625677e+01  2.224284e+04   \n",
       "std    8.408575e+06  2.875458e+00  2.888410e+00  8.623728e+01  1.246822e+04   \n",
       "min    1.000000e+01  0.000000e+00  0.000000e+00  1.000000e+00  1.000000e+00   \n",
       "25%    7.281653e+06  2.513900e+00  2.525100e+00  1.400000e+01  1.155700e+04   \n",
       "50%    1.456127e+07  5.027600e+00  5.003000e+00  6.000000e+01  2.266800e+04   \n",
       "75%    2.184664e+07  7.509700e+00  7.544400e+00  7.100000e+01  3.315400e+04   \n",
       "max    2.911801e+07  1.000000e+01  1.000000e+01  1.016000e+03  4.320000e+04   \n",
       "\n",
       "           place_id  \n",
       "count  1.288113e+06  \n",
       "mean   5.513268e+09  \n",
       "std    2.607118e+09  \n",
       "min    1.000016e+09  \n",
       "25%    3.248488e+09  \n",
       "50%    5.543382e+09  \n",
       "75%    7.770358e+09  \n",
       "max    9.999863e+09  "
      ]
     },
     "execution_count": 48,
     "metadata": {},
     "output_type": "execute_result"
    }
   ],
   "source": [
    "'''day_in_minutes = 60 * 24\n",
    "train_days = 30\n",
    "train_subset_time = day_in_minutes * train_days\n",
    "\n",
    "print('Train subset interval:', train_subset_time / day_in_minutes, 'days')\n",
    "\n",
    "train = train[train.time <= train_subset_time].copy()\n",
    "train.reset_index(inplace=True, drop=True)\n",
    "train.describe()'''"
   ]
  },
  {
   "cell_type": "markdown",
   "metadata": {},
   "source": [
    "# Add time features"
   ]
  },
  {
   "cell_type": "code",
   "execution_count": 4,
   "metadata": {
    "collapsed": false,
    "scrolled": false
   },
   "outputs": [
    {
     "data": {
      "text/html": [
       "<div>\n",
       "<table border=\"1\" class=\"dataframe\">\n",
       "  <thead>\n",
       "    <tr style=\"text-align: right;\">\n",
       "      <th></th>\n",
       "      <th>row_id</th>\n",
       "      <th>x</th>\n",
       "      <th>y</th>\n",
       "      <th>accuracy</th>\n",
       "      <th>time</th>\n",
       "      <th>weekhour</th>\n",
       "      <th>day</th>\n",
       "    </tr>\n",
       "  </thead>\n",
       "  <tbody>\n",
       "    <tr>\n",
       "      <th>0</th>\n",
       "      <td>0</td>\n",
       "      <td>0.1675</td>\n",
       "      <td>1.3608</td>\n",
       "      <td>107</td>\n",
       "      <td>930883</td>\n",
       "      <td>50</td>\n",
       "      <td>9</td>\n",
       "    </tr>\n",
       "    <tr>\n",
       "      <th>1</th>\n",
       "      <td>1</td>\n",
       "      <td>7.3909</td>\n",
       "      <td>2.5301</td>\n",
       "      <td>35</td>\n",
       "      <td>893017</td>\n",
       "      <td>0</td>\n",
       "      <td>13</td>\n",
       "    </tr>\n",
       "    <tr>\n",
       "      <th>2</th>\n",
       "      <td>2</td>\n",
       "      <td>8.0978</td>\n",
       "      <td>2.3473</td>\n",
       "      <td>62</td>\n",
       "      <td>976933</td>\n",
       "      <td>20</td>\n",
       "      <td>10</td>\n",
       "    </tr>\n",
       "    <tr>\n",
       "      <th>3</th>\n",
       "      <td>3</td>\n",
       "      <td>0.9990</td>\n",
       "      <td>1.0591</td>\n",
       "      <td>62</td>\n",
       "      <td>907285</td>\n",
       "      <td>3</td>\n",
       "      <td>23</td>\n",
       "    </tr>\n",
       "    <tr>\n",
       "      <th>4</th>\n",
       "      <td>4</td>\n",
       "      <td>0.6670</td>\n",
       "      <td>9.7254</td>\n",
       "      <td>40</td>\n",
       "      <td>914399</td>\n",
       "      <td>0</td>\n",
       "      <td>27</td>\n",
       "    </tr>\n",
       "  </tbody>\n",
       "</table>\n",
       "</div>"
      ],
      "text/plain": [
       "   row_id       x       y  accuracy    time  weekhour  day\n",
       "0       0  0.1675  1.3608       107  930883        50    9\n",
       "1       1  7.3909  2.5301        35  893017         0   13\n",
       "2       2  8.0978  2.3473        62  976933        20   10\n",
       "3       3  0.9990  1.0591        62  907285         3   23\n",
       "4       4  0.6670  9.7254        40  914399         0   27"
      ]
     },
     "execution_count": 4,
     "metadata": {},
     "output_type": "execute_result"
    }
   ],
   "source": [
    "timestamps = pandas.to_datetime(train.time * 60e9)\n",
    "train['weekhour'] = timestamps.dt.hour * timestamps.dt.dayofweek\n",
    "train['day'] = timestamps.dt.day\n",
    "#train['dayofyear'] = timestamps.dt.dayofyear\n",
    "\n",
    "if 'test' in locals():\n",
    "    timestamps = pandas.to_datetime(test.time * 60e9)\n",
    "    test['weekhour'] = timestamps.dt.hour * timestamps.dt.dayofweek\n",
    "    #test['dayofyear'] = timestamps.dt.dayofyear\n",
    "    test['day'] = timestamps.dt.day\n",
    "\n",
    "test.head()"
   ]
  },
  {
   "cell_type": "markdown",
   "metadata": {},
   "source": [
    "# Place model - spatial"
   ]
  },
  {
   "cell_type": "code",
   "execution_count": 8,
   "metadata": {
    "collapsed": false
   },
   "outputs": [
    {
     "name": "stdout",
     "output_type": "stream",
     "text": [
      "('Outliers found:', 748015)\n"
     ]
    }
   ],
   "source": [
    "# remove outliers\n",
    "train_location = train_full[['place_id', 'x', 'y']]\n",
    "byplace = train_location.groupby(['place_id'])\n",
    "\n",
    "outliers = byplace.transform(lambda x: abs(x-x.mean()) > 3*x.std())\n",
    "rows_before = train.shape[0]\n",
    "train = train[~(outliers.x | outliers.y)]\n",
    "train.reset_index(inplace=True, drop=True)\n",
    "print('Outliers found:', rows_before - train.shape[0])"
   ]
  },
  {
   "cell_type": "code",
   "execution_count": 10,
   "metadata": {
    "collapsed": false
   },
   "outputs": [
    {
     "data": {
      "text/html": [
       "<div>\n",
       "<table border=\"1\" class=\"dataframe\">\n",
       "  <thead>\n",
       "    <tr style=\"text-align: right;\">\n",
       "      <th></th>\n",
       "      <th>place_id</th>\n",
       "      <th>x</th>\n",
       "      <th>y</th>\n",
       "      <th>accuracy</th>\n",
       "      <th>weekhour</th>\n",
       "      <th>day</th>\n",
       "      <th>checkins</th>\n",
       "      <th>place_index</th>\n",
       "    </tr>\n",
       "  </thead>\n",
       "  <tbody>\n",
       "    <tr>\n",
       "      <th>0</th>\n",
       "      <td>1000015801</td>\n",
       "      <td>2.678153</td>\n",
       "      <td>5.550288</td>\n",
       "      <td>81.333333</td>\n",
       "      <td>53.373333</td>\n",
       "      <td>15.333333</td>\n",
       "      <td>75</td>\n",
       "      <td>0</td>\n",
       "    </tr>\n",
       "    <tr>\n",
       "      <th>1</th>\n",
       "      <td>1000017288</td>\n",
       "      <td>7.336637</td>\n",
       "      <td>4.346527</td>\n",
       "      <td>61.263158</td>\n",
       "      <td>41.463158</td>\n",
       "      <td>13.642105</td>\n",
       "      <td>95</td>\n",
       "      <td>1</td>\n",
       "    </tr>\n",
       "    <tr>\n",
       "      <th>2</th>\n",
       "      <td>1000025138</td>\n",
       "      <td>0.985063</td>\n",
       "      <td>5.570256</td>\n",
       "      <td>71.920721</td>\n",
       "      <td>35.544144</td>\n",
       "      <td>16.221622</td>\n",
       "      <td>555</td>\n",
       "      <td>2</td>\n",
       "    </tr>\n",
       "    <tr>\n",
       "      <th>3</th>\n",
       "      <td>1000052096</td>\n",
       "      <td>2.808096</td>\n",
       "      <td>5.833847</td>\n",
       "      <td>76.454158</td>\n",
       "      <td>16.512793</td>\n",
       "      <td>15.478678</td>\n",
       "      <td>938</td>\n",
       "      <td>3</td>\n",
       "    </tr>\n",
       "    <tr>\n",
       "      <th>4</th>\n",
       "      <td>1000063498</td>\n",
       "      <td>3.873112</td>\n",
       "      <td>7.552142</td>\n",
       "      <td>152.385965</td>\n",
       "      <td>38.000000</td>\n",
       "      <td>14.421053</td>\n",
       "      <td>57</td>\n",
       "      <td>4</td>\n",
       "    </tr>\n",
       "  </tbody>\n",
       "</table>\n",
       "</div>"
      ],
      "text/plain": [
       "     place_id         x         y    accuracy   weekhour        day  checkins  \\\n",
       "0  1000015801  2.678153  5.550288   81.333333  53.373333  15.333333        75   \n",
       "1  1000017288  7.336637  4.346527   61.263158  41.463158  13.642105        95   \n",
       "2  1000025138  0.985063  5.570256   71.920721  35.544144  16.221622       555   \n",
       "3  1000052096  2.808096  5.833847   76.454158  16.512793  15.478678       938   \n",
       "4  1000063498  3.873112  7.552142  152.385965  38.000000  14.421053        57   \n",
       "\n",
       "   place_index  \n",
       "0            0  \n",
       "1            1  \n",
       "2            2  \n",
       "3            3  \n",
       "4            4  "
      ]
     },
     "execution_count": 10,
     "metadata": {},
     "output_type": "execute_result"
    }
   ],
   "source": [
    "byplace = train.groupby(['place_id'])\n",
    "\n",
    "places = byplace.mean()\n",
    "places['checkins'] = byplace.row_id.size()\n",
    "places.reset_index(inplace=True)\n",
    "places['place_index'] = places.index\n",
    "places.drop('row_id', axis=1, inplace=True)\n",
    "places.drop('time', axis=1, inplace=True)\n",
    "places.head()"
   ]
  },
  {
   "cell_type": "code",
   "execution_count": 33,
   "metadata": {
    "collapsed": false
   },
   "outputs": [],
   "source": [
    "places.to_csv('models/places.csv', index=False)\n",
    "#print(train_full.shape, train.shape)"
   ]
  },
  {
   "cell_type": "markdown",
   "metadata": {},
   "source": [
    "# Place model - spatial - Gaussian Mixture Model"
   ]
  },
  {
   "cell_type": "code",
   "execution_count": 44,
   "metadata": {
    "collapsed": false
   },
   "outputs": [],
   "source": [
    "def get_gmm(place, n_components=3):\n",
    "    \n",
    "    if place.shape[0] <= 10 * n_components:\n",
    "        return None\n",
    "    \n",
    "    gmm = GMM(n_components, covariance_type='full', random_state=0)\n",
    "    gmm.fit(place[['x', 'y']])\n",
    "    return gmm\n",
    "\n",
    "gmms = [get_gmm(group) for name, group in byplace]"
   ]
  },
  {
   "cell_type": "code",
   "execution_count": 51,
   "metadata": {
    "collapsed": false
   },
   "outputs": [
    {
     "data": {
      "text/plain": [
       "array([ 2.12207803])"
      ]
     },
     "execution_count": 51,
     "metadata": {},
     "output_type": "execute_result"
    }
   ],
   "source": [
    "with open('models/gmms.pickle', 'wb') as handle:\n",
    "  pickle.dump(gmms, handle)\n",
    "#print(len(gmms), len(byplace))\n",
    "#gmms[0].score([[2.6, 5.5]])"
   ]
  },
  {
   "cell_type": "markdown",
   "metadata": {},
   "source": [
    "# Place model - time"
   ]
  },
  {
   "cell_type": "code",
   "execution_count": 11,
   "metadata": {
    "collapsed": false
   },
   "outputs": [
    {
     "data": {
      "text/html": [
       "<div>\n",
       "<table border=\"1\" class=\"dataframe\">\n",
       "  <thead>\n",
       "    <tr style=\"text-align: right;\">\n",
       "      <th></th>\n",
       "      <th>place_id</th>\n",
       "      <th>weekhour</th>\n",
       "      <th>checkins_weekhour</th>\n",
       "      <th>checkins</th>\n",
       "      <th>time_likelihood</th>\n",
       "    </tr>\n",
       "  </thead>\n",
       "  <tbody>\n",
       "    <tr>\n",
       "      <th>0</th>\n",
       "      <td>1000015801</td>\n",
       "      <td>0</td>\n",
       "      <td>18</td>\n",
       "      <td>75</td>\n",
       "      <td>0.240000</td>\n",
       "    </tr>\n",
       "    <tr>\n",
       "      <th>1</th>\n",
       "      <td>1000015801</td>\n",
       "      <td>6</td>\n",
       "      <td>1</td>\n",
       "      <td>75</td>\n",
       "      <td>0.013333</td>\n",
       "    </tr>\n",
       "    <tr>\n",
       "      <th>2</th>\n",
       "      <td>1000015801</td>\n",
       "      <td>18</td>\n",
       "      <td>1</td>\n",
       "      <td>75</td>\n",
       "      <td>0.013333</td>\n",
       "    </tr>\n",
       "    <tr>\n",
       "      <th>3</th>\n",
       "      <td>1000015801</td>\n",
       "      <td>20</td>\n",
       "      <td>1</td>\n",
       "      <td>75</td>\n",
       "      <td>0.013333</td>\n",
       "    </tr>\n",
       "    <tr>\n",
       "      <th>4</th>\n",
       "      <td>1000015801</td>\n",
       "      <td>21</td>\n",
       "      <td>1</td>\n",
       "      <td>75</td>\n",
       "      <td>0.013333</td>\n",
       "    </tr>\n",
       "  </tbody>\n",
       "</table>\n",
       "</div>"
      ],
      "text/plain": [
       "     place_id  weekhour  checkins_weekhour  checkins  time_likelihood\n",
       "0  1000015801         0                 18        75         0.240000\n",
       "1  1000015801         6                  1        75         0.013333\n",
       "2  1000015801        18                  1        75         0.013333\n",
       "3  1000015801        20                  1        75         0.013333\n",
       "4  1000015801        21                  1        75         0.013333"
      ]
     },
     "execution_count": 11,
     "metadata": {},
     "output_type": "execute_result"
    }
   ],
   "source": [
    "byplace_hour = train_full.groupby(['place_id', 'weekhour'], as_index=False)\n",
    "places_hour = byplace_hour.mean()\n",
    "places_hour['checkins_weekhour'] = byplace_hour.size().values\n",
    "places_hour.drop('row_id', axis=1, inplace=True)\n",
    "places_hour.drop('accuracy', axis=1, inplace=True)\n",
    "places_hour.drop('x', axis=1, inplace=True)\n",
    "places_hour.drop('y', axis=1, inplace=True)\n",
    "places_hour.drop('time', axis=1, inplace=True)\n",
    "places_hour.drop('day', axis=1, inplace=True)\n",
    "\n",
    "places_hour = pandas.merge(places_hour, places[['place_id', 'checkins']], on='place_id', sort=False)\n",
    "places_hour['time_likelihood'] = places_hour['checkins_weekhour'] / places_hour['checkins']\n",
    "\n",
    "places_hour.head()"
   ]
  },
  {
   "cell_type": "code",
   "execution_count": 60,
   "metadata": {
    "collapsed": false
   },
   "outputs": [
    {
     "data": {
      "text/plain": [
       "<matplotlib.axes._subplots.AxesSubplot at 0x13e80e550>"
      ]
     },
     "execution_count": 60,
     "metadata": {},
     "output_type": "execute_result"
    },
    {
     "data": {
      "image/png": "[encoded data removed]",
      "text/plain": [
       "<matplotlib.figure.Figure at 0x181a51d10>"
      ]
     },
     "metadata": {},
     "output_type": "display_data"
    },
    {
     "data": {
      "image/png": "[encoded data removed]",
      "text/plain": [
       "<matplotlib.figure.Figure at 0x1ffab3f10>"
      ]
     },
     "metadata": {},
     "output_type": "display_data"
    }
   ],
   "source": [
    "place_id = places[places.checkins > 100].sample(1)['place_id'].values[0]\n",
    "place = byplace.get_group(place_id)\n",
    "place.plot.scatter(x='x', y='y', s=(place.accuracy * 400)/place.accuracy.max())\n",
    "place_hour = places_hour[places_hour.place_id == place_id]\n",
    "place_hour.plot(x='weekhour', y='checkins_weekhour')"
   ]
  },
  {
   "cell_type": "code",
   "execution_count": 12,
   "metadata": {
    "collapsed": true
   },
   "outputs": [],
   "source": [
    "places_hour.to_csv('models/places_hour.csv', index=False)"
   ]
  },
  {
   "cell_type": "code",
   "execution_count": 62,
   "metadata": {
    "collapsed": false,
    "scrolled": true
   },
   "outputs": [],
   "source": [
    "def split_checkins(checkins, n_folds_x=4, n_folds_y=4, interval_x=10., interval_y=10.):\n",
    "    \n",
    "    size_x = interval_x / n_folds_x\n",
    "    size_y = interval_y / n_folds_y\n",
    "    \n",
    "    checkin_split = []\n",
    "    \n",
    "    for j in range(n_folds_y):\n",
    "        for i in range(n_folds_x):\n",
    "            \n",
    "            if i == 0:\n",
    "                #str_x = '< {0}'.format((i+1)*size_x) \n",
    "                bool_x = checkins.x < (i+1)*size_x\n",
    "            elif i == n_folds_x - 1:\n",
    "                #str_x = '>= {0}'.format(i*size_x) \n",
    "                bool_x = checkins.x >= i*size_x\n",
    "            else:\n",
    "                #str_x = '>= {0}, < {1}'.format(i*size_x, (i+1)*size_x)\n",
    "                bool_x = (checkins.x >= i*size_x) & (checkins.x < (i+1)*size_x)\n",
    "                \n",
    "            if j == 0:\n",
    "                #str_y = '< {0}'.format((j+1)*size_y) \n",
    "                bool_y = checkins.y < (j+1)*size_y\n",
    "            elif j == n_folds_y - 1:\n",
    "                #str_y = '>= {0}'.format(j*size_y)\n",
    "                bool_y = checkins.y >= j*size_y\n",
    "            else:\n",
    "                #str_y = '>= {0}, < {1}'.format(j*size_y, (j+1)*size_y) \n",
    "                bool_y = (checkins.y >= j*size_y) & (checkins.y < (j+1)*size_y)\n",
    "            \n",
    "            #print(i, j, str_x, str_y)\n",
    "            split = checkins[bool_x & bool_y]\n",
    "            split.reset_index(inplace=True, drop=True)\n",
    "            checkin_split.append(split)\n",
    "    \n",
    "    return checkin_split"
   ]
  },
  {
   "cell_type": "code",
   "execution_count": 63,
   "metadata": {
    "collapsed": false
   },
   "outputs": [],
   "source": [
    "train_list = split_checkins(train)\n",
    "#test_list = split_checkins(test)"
   ]
  },
  {
   "cell_type": "code",
   "execution_count": 9,
   "metadata": {
    "collapsed": false
   },
   "outputs": [],
   "source": [
    "def save_split_data(data, name):\n",
    "    for i, checkins in enumerate(data):\n",
    "        checkins.to_csv('data/{0}_{1}.csv'.format(name, i), index=False)"
   ]
  },
  {
   "cell_type": "code",
   "execution_count": 29,
   "metadata": {
    "collapsed": true
   },
   "outputs": [],
   "source": [
    "save_split_data(train_list, 'train')\n",
    "#save_split_data(test_list, 'test')"
   ]
  },
  {
   "cell_type": "code",
   "execution_count": 30,
   "metadata": {
    "collapsed": false
   },
   "outputs": [
    {
     "data": {
      "text/html": [
       "<div>\n",
       "<table border=\"1\" class=\"dataframe\">\n",
       "  <thead>\n",
       "    <tr style=\"text-align: right;\">\n",
       "      <th></th>\n",
       "      <th>row_id</th>\n",
       "      <th>x</th>\n",
       "      <th>y</th>\n",
       "      <th>accuracy</th>\n",
       "      <th>time</th>\n",
       "      <th>weekhour</th>\n",
       "      <th>day</th>\n",
       "    </tr>\n",
       "  </thead>\n",
       "  <tbody>\n",
       "    <tr>\n",
       "      <th>0</th>\n",
       "      <td>19</td>\n",
       "      <td>2.7856</td>\n",
       "      <td>1.7072</td>\n",
       "      <td>61</td>\n",
       "      <td>884954</td>\n",
       "      <td>13</td>\n",
       "      <td>7</td>\n",
       "    </tr>\n",
       "    <tr>\n",
       "      <th>1</th>\n",
       "      <td>20</td>\n",
       "      <td>3.6321</td>\n",
       "      <td>2.2853</td>\n",
       "      <td>67</td>\n",
       "      <td>905857</td>\n",
       "      <td>2</td>\n",
       "      <td>22</td>\n",
       "    </tr>\n",
       "    <tr>\n",
       "      <th>2</th>\n",
       "      <td>62</td>\n",
       "      <td>2.7966</td>\n",
       "      <td>0.0302</td>\n",
       "      <td>68</td>\n",
       "      <td>856864</td>\n",
       "      <td>3</td>\n",
       "      <td>19</td>\n",
       "    </tr>\n",
       "    <tr>\n",
       "      <th>3</th>\n",
       "      <td>112</td>\n",
       "      <td>2.9562</td>\n",
       "      <td>0.5535</td>\n",
       "      <td>72</td>\n",
       "      <td>879795</td>\n",
       "      <td>92</td>\n",
       "      <td>3</td>\n",
       "    </tr>\n",
       "    <tr>\n",
       "      <th>4</th>\n",
       "      <td>152</td>\n",
       "      <td>3.2196</td>\n",
       "      <td>1.6380</td>\n",
       "      <td>21</td>\n",
       "      <td>790789</td>\n",
       "      <td>18</td>\n",
       "      <td>4</td>\n",
       "    </tr>\n",
       "  </tbody>\n",
       "</table>\n",
       "</div>"
      ],
      "text/plain": [
       "   row_id       x       y  accuracy    time  weekhour  day\n",
       "0      19  2.7856  1.7072        61  884954        13    7\n",
       "1      20  3.6321  2.2853        67  905857         2   22\n",
       "2      62  2.7966  0.0302        68  856864         3   19\n",
       "3     112  2.9562  0.5535        72  879795        92    3\n",
       "4     152  3.2196  1.6380        21  790789        18    4"
      ]
     },
     "execution_count": 30,
     "metadata": {},
     "output_type": "execute_result"
    }
   ],
   "source": [
    "test_list[1].head()"
   ]
  },
  {
   "cell_type": "markdown",
   "metadata": {},
   "source": [
    "# Retrieve candidate places"
   ]
  },
  {
   "cell_type": "code",
   "execution_count": 9,
   "metadata": {
    "collapsed": false
   },
   "outputs": [],
   "source": [
    "places = pandas.read_csv('models/places.csv')\n",
    "places_checkins = places['checkins'].values\n",
    "#places['place_index'] = places.index"
   ]
  },
  {
   "cell_type": "code",
   "execution_count": 10,
   "metadata": {
    "collapsed": false
   },
   "outputs": [
    {
     "data": {
      "text/plain": [
       "array([ 75,  95, 555, ...,  59, 495, 214])"
      ]
     },
     "execution_count": 10,
     "metadata": {},
     "output_type": "execute_result"
    }
   ],
   "source": [
    "# excluding venues with less than X checkins\n",
    "#place_tree = KDTree(places[places.checkins > 90][['x', 'y']])\n",
    "place_tree = KDTree(places[['x', 'y']])"
   ]
  },
  {
   "cell_type": "code",
   "execution_count": 11,
   "metadata": {
    "collapsed": false
   },
   "outputs": [],
   "source": [
    "metric = DistanceMetric.get_metric('minkowski')\n",
    "def distance(a):\n",
    "    points = [[a[0], a[1]], [a[2], a[3]]]\n",
    "    return metric.pairwise(points)[0][1]\n",
    "\n",
    "places['place_index'] = places.index\n",
    "\n",
    "def get_nearest_neighbors(checkins, n_neighbors = 100):    \n",
    "    \n",
    "    distances, nearest = place_tree.query(checkins[['x','y']], k=n_neighbors)\n",
    "    return (distances, nearest)\n",
    "\n",
    "def get_most_popular(distances, nearest, n_popular = 20):\n",
    "    \n",
    "    new_nearest = []\n",
    "    new_distances = []\n",
    "    \n",
    "    for i, neighbors in enumerate(nearest):\n",
    "        popular_indexes = places_checkins[neighbors].argsort()[-1*n_popular:][::-1]\n",
    "        new_distances.append(distances[i][popular_indexes])\n",
    "        new_nearest.append(neighbors[popular_indexes])\n",
    "    \n",
    "    return (new_distances, new_nearest)\n",
    "    \n",
    "def save_popular_neighbors(data, name, n_popular=20, n_nearest=100):\n",
    "\n",
    "    for i in range(1):\n",
    "    #for i, checkins in enumerate(data):\n",
    "        #checkins = data[i]\n",
    "        print('Loading trainng data...')\n",
    "        checkins = pandas.read_csv('data/{0}_{1}.csv'.format(name, i))\n",
    "        \n",
    "        distances, nearest = get_nearest_neighbors(checkins, n_nearest)\n",
    "        distances, nearest = get_most_popular(distances, nearest, n_popular)\n",
    "        \n",
    "        #print(nearest)\n",
    "        \n",
    "        if 'place_id' in checkins.columns:\n",
    "            checkin_place = pandas.merge(checkins, places[['place_id', 'x', 'y', 'place_index']], on='place_id')\n",
    "            checkin_place['distance'] = checkin_place[['x_x', 'y_x', 'x_y', 'y_y']].apply(distance, axis = 1)\n",
    "\n",
    "            place_indexes = checkin_place['place_index'].values\n",
    "            distances_places = checkin_place['distance'].values\n",
    "\n",
    "            # always include ground truth among candidate places\n",
    "            nearest = numpy.append(nearest, numpy.reshape(place_indexes, (-1, 1)), axis=1)\n",
    "            distances = numpy.append(distances, numpy.reshape(distances_places, (-1, 1)), axis=1)\n",
    "\n",
    "        numpy.save('data/neareast_{0}_{1}_{2}'.format(n_popular, name, i), nearest)\n",
    "        numpy.save('data/distances_{0}_{1}_{2}'.format(n_popular, name, i), distances)"
   ]
  },
  {
   "cell_type": "code",
   "execution_count": null,
   "metadata": {
    "collapsed": false
   },
   "outputs": [
    {
     "name": "stdout",
     "output_type": "stream",
     "text": [
      "Loading trainng data...\n"
     ]
    }
   ],
   "source": [
    "save_popular_neighbors(None, 'train')\n",
    "#save_popular_neighbors(test_list, 'test')"
   ]
  },
  {
   "cell_type": "code",
   "execution_count": 44,
   "metadata": {
    "collapsed": false
   },
   "outputs": [
    {
     "data": {
      "text/plain": [
       "(17206, 7)"
      ]
     },
     "execution_count": 44,
     "metadata": {},
     "output_type": "execute_result"
    }
   ],
   "source": [
    "places[places.checkins < 80].shape"
   ]
  },
  {
   "cell_type": "code",
   "execution_count": null,
   "metadata": {
    "collapsed": false
   },
   "outputs": [],
   "source": [
    "# This cell fixes existing nearest/distances files without ground truth place data\n",
    "\n",
    "'''metric = DistanceMetric.get_metric('minkowski')\n",
    "def distance(a):\n",
    "    points = [[a[0], a[1]], [a[2], a[3]]]\n",
    "    return metric.pairwise(points)[0][1]\n",
    "\n",
    "for i in range(16):\n",
    "    \n",
    "    print(i)\n",
    "    \n",
    "    checkins = pandas.read_csv('data/train_{0}.csv'.format(i))\n",
    "    \n",
    "    print('Merging...')\n",
    "    checkin_place = pandas.merge(checkins, places[['place_id', 'x', 'y', 'place_index']], on='place_id')\n",
    "    checkin_place['distance'] = checkin_place[['x_x', 'y_x', 'x_y', 'y_y']].apply(distance, axis = 1)\n",
    "    \n",
    "    place_indexes = checkin_place['place_index'].values\n",
    "    distances_places = checkin_place['distance'].values\n",
    "    \n",
    "    print('Loading nearest files...')\n",
    "    \n",
    "    nearest = numpy.load('data/neareast{0}_{1}.npy'.format(n_neighbors, i))\n",
    "    distances = numpy.load('data/distances{0}_{1}.npy'.format(n_neighbors, i))\n",
    "    \n",
    "    print('Appending...')\n",
    "    \n",
    "    nearest = numpy.append(nearest, numpy.reshape(place_indexes, (-1, 1)), axis=1)\n",
    "    distances = numpy.append(distances, numpy.reshape(distances_places, (-1, 1)), axis=1)\n",
    "    \n",
    "    print('Saving...')\n",
    "    \n",
    "    numpy.save('data/neareast{0}_{1}'.format(n_neighbors, i), nearest)\n",
    "    numpy.save('data/distances{0}_{1}'.format(n_neighbors, i), distances)'''"
   ]
  },
  {
   "cell_type": "code",
   "execution_count": null,
   "metadata": {
    "collapsed": true
   },
   "outputs": [],
   "source": []
  }
 ],
 "metadata": {
  "anaconda-cloud": {},
  "kernelspec": {
   "display_name": "Python [python2]",
   "language": "python",
   "name": "Python [python2]"
  },
  "language_info": {
   "codemirror_mode": {
    "name": "ipython",
    "version": 2
   },
   "file_extension": ".py",
   "mimetype": "text/x-python",
   "name": "python",
   "nbconvert_exporter": "python",
   "pygments_lexer": "ipython2",
   "version": "2.7.11"
  }
 },
 "nbformat": 4,
 "nbformat_minor": 0
}
